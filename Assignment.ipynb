{
 "cells": [
  {
   "cell_type": "code",
   "execution_count": 1,
   "id": "9aaf5723-9510-4719-bba0-0d28e7d1bf10",
   "metadata": {},
   "outputs": [],
   "source": [
    "#Explain the key features of Python that make it a popular choice for programming\n",
    "\n",
    "Answer:-\n",
    "Key feature of python are as follows:\n",
    "1.Less lines of Code\n",
    "2.Inbuilt Libraries\n",
    "3.Intentation makes it more clear as compared to other programming languages\n",
    "4.Automatic Garbage collector makes it more memory efficient"
   ]
  },
  {
   "cell_type": "code",
   "execution_count": 2,
   "id": "1f3b2f4d-918a-4753-881c-2174cda24808",
   "metadata": {},
   "outputs": [
    {
     "ename": "SyntaxError",
     "evalue": "invalid syntax (2695188983.py, line 3)",
     "output_type": "error",
     "traceback": [
      "\u001b[1;36m  Cell \u001b[1;32mIn[2], line 3\u001b[1;36m\u001b[0m\n\u001b[1;33m    Answer:-\u001b[0m\n\u001b[1;37m            ^\u001b[0m\n\u001b[1;31mSyntaxError\u001b[0m\u001b[1;31m:\u001b[0m invalid syntax\n"
     ]
    }
   ],
   "source": [
    "#Describe the role of predefined keywords in Python and provide examples of how they are used in a program\n",
    "\n",
    "Answer:-\n",
    "Predefined Keywords are the keywords which contains special meaning and functionality to the interpreater example print,for,while,global etc.\n",
    "example:\n",
    "for in range(0,5):\n",
    "    print(\"Example\")"
   ]
  },
  {
   "cell_type": "code",
   "execution_count": 3,
   "id": "5d4a71c7-06bb-4e35-8bb0-17d066686bcc",
   "metadata": {},
   "outputs": [
    {
     "ename": "SyntaxError",
     "evalue": "invalid syntax (2831650030.py, line 2)",
     "output_type": "error",
     "traceback": [
      "\u001b[1;36m  Cell \u001b[1;32mIn[3], line 2\u001b[1;36m\u001b[0m\n\u001b[1;33m    Answer:-\u001b[0m\n\u001b[1;37m            ^\u001b[0m\n\u001b[1;31mSyntaxError\u001b[0m\u001b[1;31m:\u001b[0m invalid syntax\n"
     ]
    }
   ],
   "source": [
    "#Compare and contrast mutable and immutable objects in Python with examples\n",
    "Answer:-\n",
    "Mutable objects:-Mutable objects are the objects those values and can be changed any number of times like list,dictonary,sets\n",
    "exapmle:\n",
    "list=[1,2,3,4,5]\n",
    "list[2]=2\n",
    "print(list)\n",
    "\n",
    "output:\n",
    "\n",
    "[1,2,2,4,5]\n",
    "\n",
    "Immutable objects:- Immutable objets are the objects those values cannot be changed once defined exapmle tuple,strings\n",
    "example:\n",
    "tup=(1,2,3,4,5)\n",
    "tup[2]=2\n",
    "print(tup)\n",
    "\n",
    "it will give an error\n",
    "---------------------------------------------------------------------------\n",
    "TypeError                                 Traceback (most recent call last)\n",
    "Cell In[6], line 2\n",
    "      1 tup=(1,2,3,4,5)\n",
    "----> 2 tup[2]=2\n",
    "      3 print(tup)\n",
    "\n",
    "TypeError: 'tuple' object does not support item assignment"
   ]
  },
  {
   "cell_type": "code",
   "execution_count": 5,
   "id": "7fefe301-06f1-4058-827c-2cea0dd09b95",
   "metadata": {},
   "outputs": [
    {
     "name": "stdout",
     "output_type": "stream",
     "text": [
      "[1, 2, 2, 4, 5]\n"
     ]
    }
   ],
   "source": [
    "list=[1,2,3,4,5]\n",
    "list[2]=2\n",
    "print(list)"
   ]
  },
  {
   "cell_type": "code",
   "execution_count": 6,
   "id": "a00e38ff-1f04-43f2-a779-256547d45112",
   "metadata": {},
   "outputs": [
    {
     "ename": "TypeError",
     "evalue": "'tuple' object does not support item assignment",
     "output_type": "error",
     "traceback": [
      "\u001b[1;31m---------------------------------------------------------------------------\u001b[0m",
      "\u001b[1;31mTypeError\u001b[0m                                 Traceback (most recent call last)",
      "Cell \u001b[1;32mIn[6], line 2\u001b[0m\n\u001b[0;32m      1\u001b[0m tup\u001b[38;5;241m=\u001b[39m(\u001b[38;5;241m1\u001b[39m,\u001b[38;5;241m2\u001b[39m,\u001b[38;5;241m3\u001b[39m,\u001b[38;5;241m4\u001b[39m,\u001b[38;5;241m5\u001b[39m)\n\u001b[1;32m----> 2\u001b[0m \u001b[43mtup\u001b[49m\u001b[43m[\u001b[49m\u001b[38;5;241;43m2\u001b[39;49m\u001b[43m]\u001b[49m\u001b[38;5;241m=\u001b[39m\u001b[38;5;241m2\u001b[39m\n\u001b[0;32m      3\u001b[0m \u001b[38;5;28mprint\u001b[39m(tup)\n",
      "\u001b[1;31mTypeError\u001b[0m: 'tuple' object does not support item assignment"
     ]
    }
   ],
   "source": [
    "tup=(1,2,3,4,5)\n",
    "tup[2]=2\n",
    "print(tup)"
   ]
  },
  {
   "cell_type": "code",
   "execution_count": 1,
   "id": "dd57da12-0ab6-472e-98d2-379427a85ba2",
   "metadata": {},
   "outputs": [
    {
     "ename": "SyntaxError",
     "evalue": "invalid syntax (4245170981.py, line 3)",
     "output_type": "error",
     "traceback": [
      "\u001b[1;36m  Cell \u001b[1;32mIn[1], line 3\u001b[1;36m\u001b[0m\n\u001b[1;33m    Answer:-\u001b[0m\n\u001b[1;37m            ^\u001b[0m\n\u001b[1;31mSyntaxError\u001b[0m\u001b[1;31m:\u001b[0m invalid syntax\n"
     ]
    }
   ],
   "source": [
    "#Discuss the different types of operators in Python and provide examples of how they are used\n",
    "\n",
    "Answer:-\n",
    "Different types of operators in Python are:\n",
    "1. Assignment operators- operators used to assign values to variables\n",
    "example:- =,+=,-=,*= etc.\n",
    "use case:\n",
    "a=3(Value of variable a will be assigned as 3)\n",
    "\n",
    "2. comparison operators:- operators used for comparison\n",
    "example:- ==,!=,<,> etc.\n",
    "use case:-\n",
    "a=3\n",
    "if (a==3):\n",
    "    print(\"condition passed\")\n",
    "\n",
    "3. Logical operators:-logical operators are and: Logical AND, or: Logical OR, and not: Logical NOT\n",
    "example:- and,or,and not\n",
    "use case:\n",
    "a=3\n",
    "b=4\n",
    "if(a==3 or b==5):\n",
    "    print(\"any of two condition is true\")\n",
    "elif (a==3 and b==5):\n",
    "    print(\"both the conditions are true\")   \n",
    "\n",
    "4. Airthmatic operators:-Operators used for mathematical calculations are known as Arithmetic operators\n",
    "example:+,-,*,% etc.\n",
    "c=2\n",
    "b=3\n",
    "use case:- a=c+b\n",
    "value of a will be 5\n",
    "\n",
    "5. identity operators\n",
    "in: Checks if a value is present in a sequence\n",
    "not in: Checks if a value is not present in a sequence\n",
    "example:\n",
    "l=(1,2,3,4,5)\n",
    "if (1 in l):\n",
    "    print(\"found\")\n",
    "\n",
    "6. Membership operators\n",
    "is: Checks if two variables point to the same object\n",
    "is not: Checks if two variables do not point to the same object\n",
    "\n",
    "Example"
   ]
  },
  {
   "cell_type": "code",
   "execution_count": 2,
   "id": "abcf4207-703d-4ef2-bf32-aef2f8f207ae",
   "metadata": {},
   "outputs": [
    {
     "ename": "SyntaxError",
     "evalue": "invalid syntax (2124080389.py, line 3)",
     "output_type": "error",
     "traceback": [
      "\u001b[1;36m  Cell \u001b[1;32mIn[2], line 3\u001b[1;36m\u001b[0m\n\u001b[1;33m    Implicit Type Conversion: Automatically done by Python and does not need the interference of a user.\u001b[0m\n\u001b[1;37m             ^\u001b[0m\n\u001b[1;31mSyntaxError\u001b[0m\u001b[1;31m:\u001b[0m invalid syntax\n"
     ]
    }
   ],
   "source": [
    "#Explain the concept of type casting in Python with examples\n",
    "Answer\n",
    "Implicit Type Conversion: Automatically done by Python and does not need the interference of a user.\n",
    "example\n",
    "x = 10    \n",
    "y = 2.5   \n",
    "res = x + y\n",
    "print(res)   \n",
    "print(type(res)) \n",
    "\n",
    "Explicit Type Conversion: This type of conversion is done manually by the user using some functions.\n",
    "int() - Changes to integer type.\n",
    "float() - Changes to float type.\n",
    "str() - Changes to string type.\n",
    "list(), tuple(), set()\n",
    "\n",
    "Example:-\n",
    "num = 100\n",
    "str_num = str(num)  \n",
    "print(str_num)\n",
    "\n",
    "#concerted form integer to string"
   ]
  },
  {
   "cell_type": "code",
   "execution_count": 3,
   "id": "a6410393-c0a8-495d-88b8-320db0635c95",
   "metadata": {},
   "outputs": [
    {
     "ename": "NameError",
     "evalue": "name 'Answer' is not defined",
     "output_type": "error",
     "traceback": [
      "\u001b[1;31m---------------------------------------------------------------------------\u001b[0m",
      "\u001b[1;31mNameError\u001b[0m                                 Traceback (most recent call last)",
      "Cell \u001b[1;32mIn[3], line 2\u001b[0m\n\u001b[0;32m      1\u001b[0m \u001b[38;5;66;03m#How do conditional statements work in Python? Illustrate with examples\u001b[39;00m\n\u001b[1;32m----> 2\u001b[0m \u001b[43mAnswer\u001b[49m\n",
      "\u001b[1;31mNameError\u001b[0m: name 'Answer' is not defined"
     ]
    }
   ],
   "source": [
    "#How do conditional statements work in Python? Illustrate with examples\n",
    "Answer\n",
    "if Statement: Executes a block of code if a condition is True.\n",
    "elif Statement: Allows checking multiple conditions when the previous if condition is False.\n",
    "else Statement: Executes a block of code if none of the previous conditions are True.\n",
    "\n",
    "example:\n",
    "x = 7\n",
    "if x < 5:\n",
    "    print(\"x is less than 5\")\n",
    "elif x == 5:\n",
    "    print(\"x is equal to 5\")\n",
    "else:\n",
    "    print(\"x is greater than 5\")  \n"
   ]
  },
  {
   "cell_type": "code",
   "execution_count": 4,
   "id": "7ac31242-8043-403a-aa24-15656a8b4ad6",
   "metadata": {},
   "outputs": [
    {
     "ename": "NameError",
     "evalue": "name 'Answer' is not defined",
     "output_type": "error",
     "traceback": [
      "\u001b[1;31m---------------------------------------------------------------------------\u001b[0m",
      "\u001b[1;31mNameError\u001b[0m                                 Traceback (most recent call last)",
      "Cell \u001b[1;32mIn[4], line 3\u001b[0m\n\u001b[0;32m      1\u001b[0m \u001b[38;5;66;03m#Describe the different types of loops in Python and their use cases with examples\u001b[39;00m\n\u001b[1;32m----> 3\u001b[0m \u001b[43mAnswer\u001b[49m\n",
      "\u001b[1;31mNameError\u001b[0m: name 'Answer' is not defined"
     ]
    }
   ],
   "source": [
    "#Describe the different types of loops in Python and their use cases with examples\n",
    "\n",
    "Answer\n",
    "\n",
    "1. For Loop\n",
    "The for loop is used to iterate over a sequence, like a list, tuple, string, dictionary, or a range of numbers. \n",
    "It's perfect for when you know the exact number of iterations you need.\n",
    "Example\n",
    "\n",
    "fruits = [\"apple\", \"banana\", \"cherry\"]\n",
    "for fruit in fruits:\n",
    "    print(fruit)\n",
    "\n",
    "2. While Loop\n",
    "A while loop keeps running as long as its condition remains True. \n",
    "It's ideal for situations where you don't know how many iterations are needed and they depend on a condition.\n",
    "\n",
    "example\n",
    "count = 0\n",
    "while count < 5:\n",
    "    print(count)\n",
    "    count += 1"
   ]
  },
  {
   "cell_type": "code",
   "execution_count": null,
   "id": "05094ae5-d082-4a1d-962a-2b4f8276a830",
   "metadata": {},
   "outputs": [],
   "source": []
  }
 ],
 "metadata": {
  "kernelspec": {
   "display_name": "Python 3 (ipykernel)",
   "language": "python",
   "name": "python3"
  },
  "language_info": {
   "codemirror_mode": {
    "name": "ipython",
    "version": 3
   },
   "file_extension": ".py",
   "mimetype": "text/x-python",
   "name": "python",
   "nbconvert_exporter": "python",
   "pygments_lexer": "ipython3",
   "version": "3.11.4"
  }
 },
 "nbformat": 4,
 "nbformat_minor": 5
}
